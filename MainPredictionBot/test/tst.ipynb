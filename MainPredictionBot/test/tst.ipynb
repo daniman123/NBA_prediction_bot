{
 "cells": [
  {
   "cell_type": "code",
   "execution_count": 21,
   "metadata": {},
   "outputs": [],
   "source": [
    "import requests\n",
    "import pandas as pd\n",
    "\n",
    "url = \"https://www.rotowire.com/basketball/tables/injury-report.php?team=ALL&pos=ALL\"\n",
    "response = requests.Session().get(url=url).json()\n",
    "\n",
    "headers = [\n",
    "    'Player',\n",
    "    'Team',\n",
    "    'Position',\n",
    "    'Injury',\n",
    "    'Status',]\n",
    "\n",
    "data = []\n",
    "\n",
    "for i in response:\n",
    "    data_input = i['player'],i['team'],i['position'],i['injury'],i['status']\n",
    "    data.append(data_input)\n",
    "    # print(data_input)\n",
    "\n",
    "# data\n",
    "\n",
    "df = pd.DataFrame(data, columns=headers)\n",
    "df.to_csv(r\"C:\\Users\\Danie\\Desktop\\tests\\EneBeA\\NBA_prediction_bot\\data\\injuries.csv\",index=False)"
   ]
  }
 ],
 "metadata": {
  "kernelspec": {
   "display_name": "Python 3.8.2 32-bit",
   "language": "python",
   "name": "python3"
  },
  "language_info": {
   "codemirror_mode": {
    "name": "ipython",
    "version": 3
   },
   "file_extension": ".py",
   "mimetype": "text/x-python",
   "name": "python",
   "nbconvert_exporter": "python",
   "pygments_lexer": "ipython3",
   "version": "3.8.2"
  },
  "orig_nbformat": 4,
  "vscode": {
   "interpreter": {
    "hash": "64224955209c47bcbf51069deaaa8e9f3d370038665fbc27b5988671e15c914d"
   }
  }
 },
 "nbformat": 4,
 "nbformat_minor": 2
}
